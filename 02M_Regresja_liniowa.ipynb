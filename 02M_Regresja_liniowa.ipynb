{
 "cells": [
  {
   "cell_type": "markdown",
   "metadata": {
    "colab_type": "text",
    "id": "0fVD-WRKhgE2"
   },
   "source": [
    "# Regresja liniowa\n",
    "Autor: Jarosław Żygierewicz\n",
    "Korekta: Rafał Masełek\n",
    "\n",
    "Importujemy ponownie powtórzone `numpy`, dodajemy moduł do tworzenia wykresów `pyplot`."
   ]
  },
  {
   "cell_type": "code",
   "execution_count": 1,
   "metadata": {
    "colab": {},
    "colab_type": "code",
    "id": "DB6NUjsLhTLd"
   },
   "outputs": [],
   "source": [
    "import numpy as np\n",
    "import pylab as py"
   ]
  },
  {
   "cell_type": "markdown",
   "metadata": {
    "colab_type": "text",
    "id": "OE_3hFYtIDv-"
   },
   "source": [
    "# Zapoznanie się z regresją liniową\n",
    "* W ramach tego ćwiczenia będziemy chcieli opisać zbiór danych modelem liniowym.\n",
    "* Zbiór danych stworzymy sami w sposób sztuczny, ale w typowych problemach zebranie i obróbka danych stanowi znaczącą część pracy.\n",
    "* Nasz liniowy model ma postać: $y = \\theta_0 + \\theta_1 x$\n",
    "* Dane wytworzymy dla konkretnych $\\theta_0$ i $\\theta_1$, a następnie zaimplementujemy regresję liniową, aby znaleźć jak najlepsze przybliżenie dla tych parametrów.\n",
    "* `(X,Y)` to ciąg uczący. *Co to ciąg uczący?*"
   ]
  },
  {
   "cell_type": "markdown",
   "metadata": {
    "colab_type": "text",
    "id": "8PHcEKITkFAc"
   },
   "source": [
    "## Produkcja danych"
   ]
  },
  {
   "cell_type": "markdown",
   "metadata": {
    "colab_type": "text",
    "id": "pnbVmOFqIDv_"
   },
   "source": [
    "Zacznijmy od produkcji $x$. W późniejszej części ćwiczenia zobaczymy, że wygodniej je mieć w postaci wektora kolumnowego, ale na razie zróbmy płaską tablicę 1D. Proszę wygenerować n równoodległych punktów w przedziale [0,10], gdzie n jest wybraną przez was liczbą naturalną nie mniejszą niż 10."
   ]
  },
  {
   "cell_type": "code",
   "execution_count": 79,
   "metadata": {
    "colab": {
     "base_uri": "https://localhost:8080/",
     "height": 52
    },
    "colab_type": "code",
    "executionInfo": {
     "elapsed": 1996,
     "status": "ok",
     "timestamp": 1570788655455,
     "user": {
      "displayName": "Anna Dawid",
      "photoUrl": "https://lh3.googleusercontent.com/a-/AAuE7mBMAlqIzrWbyBbGSDvCFuCvvSN7Xx3h3HRKaToc0r4=s64",
      "userId": "02862484648310443813"
     },
     "user_tz": -120
    },
    "id": "ttS1qAmEIDwA",
    "outputId": "5a9ddf2e-ed4c-4362-cf51-15d7305753d3"
   },
   "outputs": [
    {
     "name": "stdout",
     "output_type": "stream",
     "text": [
      "[ 0.          1.11111111  2.22222222  3.33333333  4.44444444  5.55555556\n",
      "  6.66666667  7.77777778  8.88888889 10.        ]\n"
     ]
    }
   ],
   "source": [
    "n = ...\n",
    "x = ...\n",
    "print(x)"
   ]
  },
  {
   "cell_type": "markdown",
   "metadata": {
    "colab_type": "text",
    "id": "OwGOuzcQIDwH"
   },
   "source": [
    "Ustalamy parametry dla symulacji $\\theta_0 = 1$ i $\\theta_1 = 3$:"
   ]
  },
  {
   "cell_type": "code",
   "execution_count": 80,
   "metadata": {
    "colab": {},
    "colab_type": "code",
    "id": "8makH4WzIDwI"
   },
   "outputs": [],
   "source": [
    "theta0 = ..\n",
    "theta1 = .."
   ]
  },
  {
   "cell_type": "markdown",
   "metadata": {
    "colab_type": "text",
    "id": "N3l9-73PIDwD"
   },
   "source": [
    "Teraz produkujemy odpowiadające $y = \\theta_0 + \\theta_1 x$ korzystając z wybranych parametrów."
   ]
  },
  {
   "cell_type": "code",
   "execution_count": 81,
   "metadata": {
    "colab": {
     "base_uri": "https://localhost:8080/",
     "height": 52
    },
    "colab_type": "code",
    "executionInfo": {
     "elapsed": 1961,
     "status": "ok",
     "timestamp": 1570788655459,
     "user": {
      "displayName": "Anna Dawid",
      "photoUrl": "https://lh3.googleusercontent.com/a-/AAuE7mBMAlqIzrWbyBbGSDvCFuCvvSN7Xx3h3HRKaToc0r4=s64",
      "userId": "02862484648310443813"
     },
     "user_tz": -120
    },
    "id": "7aUBMKeilMQE",
    "outputId": "0abb0e48-7a12-48e8-8abf-96051e94a06e"
   },
   "outputs": [
    {
     "name": "stdout",
     "output_type": "stream",
     "text": [
      "[ 1.          4.33333333  7.66666667 11.         14.33333333 17.66666667\n",
      " 21.         24.33333333 27.66666667 31.        ]\n"
     ]
    }
   ],
   "source": [
    "y = ...\n",
    "print(y)"
   ]
  },
  {
   "cell_type": "markdown",
   "metadata": {
    "colab_type": "text",
    "id": "yewJ96CHIDwL"
   },
   "source": [
    "Proszę wyplotować dane jako punkty na wykresie."
   ]
  },
  {
   "cell_type": "code",
   "execution_count": 82,
   "metadata": {
    "colab": {
     "base_uri": "https://localhost:8080/",
     "height": 269
    },
    "colab_type": "code",
    "executionInfo": {
     "elapsed": 2371,
     "status": "ok",
     "timestamp": 1570788655896,
     "user": {
      "displayName": "Anna Dawid",
      "photoUrl": "https://lh3.googleusercontent.com/a-/AAuE7mBMAlqIzrWbyBbGSDvCFuCvvSN7Xx3h3HRKaToc0r4=s64",
      "userId": "02862484648310443813"
     },
     "user_tz": -120
    },
    "id": "EL_rSguzmlKi",
    "outputId": "95654152-da06-4942-e24a-9ed44b4d3f19"
   },
   "outputs": [
    {
     "data": {
      "image/png": "[encoded data removed]",
      "text/plain": [
       "<Figure size 432x288 with 1 Axes>"
      ]
     },
     "metadata": {
      "needs_background": "light"
     },
     "output_type": "display_data"
    }
   ],
   "source": [
    "py.plot(...)\n",
    "py.show()"
   ]
  },
  {
   "cell_type": "markdown",
   "metadata": {
    "colab_type": "text",
    "id": "StUPjPEbmyO5"
   },
   "source": [
    "Skomplikujmy trochę zadanie dla naszej regresji. Wprowadźmy coś na kształt szumu: do każdego $y$ dodaj małą liczbę losową z N(0,1) i ponownie narysuj wykres. Teraz dane wyglądają bardziej życiowo! "
   ]
  },
  {
   "cell_type": "code",
   "execution_count": 83,
   "metadata": {
    "colab": {
     "base_uri": "https://localhost:8080/",
     "height": 304
    },
    "colab_type": "code",
    "executionInfo": {
     "elapsed": 2344,
     "status": "ok",
     "timestamp": 1570788655898,
     "user": {
      "displayName": "Anna Dawid",
      "photoUrl": "https://lh3.googleusercontent.com/a-/AAuE7mBMAlqIzrWbyBbGSDvCFuCvvSN7Xx3h3HRKaToc0r4=s64",
      "userId": "02862484648310443813"
     },
     "user_tz": -120
    },
    "id": "qWMWQc7SIDwL",
    "outputId": "a82b50c2-a405-4422-c1bd-3b3ad7710121"
   },
   "outputs": [
    {
     "name": "stdout",
     "output_type": "stream",
     "text": [
      "[-0.21770599  7.14106192  6.32885821 10.34162419 12.96074282 17.64124477\n",
      " 21.32769986 26.19914603 28.32919825 30.71779142]\n"
     ]
    },
    {
     "data": {
      "image/png": "[encoded data removed]",
      "text/plain": [
       "<Figure size 432x288 with 1 Axes>"
      ]
     },
     "metadata": {
      "needs_background": "light"
     },
     "output_type": "display_data"
    }
   ],
   "source": [
    "y = ...\n",
    "print(y)\n",
    "py.plot(...)\n",
    "py.show()"
   ]
  },
  {
   "cell_type": "markdown",
   "metadata": {
    "colab_type": "text",
    "id": "c_r-QQtsIDwR"
   },
   "source": [
    "## Algorytm równań normalnych\n",
    "Proszę napisać funkcję, która:\n",
    "* na wejściu przyjmuje ciąg uczący, implementuje wzór na parametry optymalne na podstawie [równań normalnych](http://brain.fuw.edu.pl/edu/index.php/Uczenie_maszynowe_i_sztuczne_sieci_neuronowe/Wykład_1#Minimalizacja_funkcji_kosztu ). \n",
    "* Funkcja powinna zwracać estymowane parametry theta.\n",
    "* Proszę dorysować prostą reprezentującą hipotezę do wykresu punktów ciągu uczącego.\n",
    "* dla przypomnienia: odwrotność macierzy można obliczyć w numpy funkcją: <tt>numpy.linalg.inv</tt>\n",
    "* proszę zwrócić uwagę, że konieczne jest użycie wektorów kolumnowych!\n",
    "\n",
    "Podpowiedź: aby skorzystać ze wzorów z wykładu, macierz wejść $X$ musi zawierać nie tylko kolumnę $x$, ale także kolumnę jedynek, aby przemnożona przez wektor [$\\theta_0$ $\\theta_1$] dawała odpowiedni wektor (kolumnowy) wyjść $y$."
   ]
  },
  {
   "cell_type": "code",
   "execution_count": 84,
   "metadata": {
    "colab": {
     "base_uri": "https://localhost:8080/",
     "height": 538
    },
    "colab_type": "code",
    "executionInfo": {
     "elapsed": 834,
     "status": "ok",
     "timestamp": 1570788770262,
     "user": {
      "displayName": "Anna Dawid",
      "photoUrl": "https://lh3.googleusercontent.com/a-/AAuE7mBMAlqIzrWbyBbGSDvCFuCvvSN7Xx3h3HRKaToc0r4=s64",
      "userId": "02862484648310443813"
     },
     "user_tz": -120
    },
    "id": "_pK1Ue7oIDwS",
    "outputId": "e5bb40c2-bd57-487c-9ff5-3cf258fb9c09"
   },
   "outputs": [
    {
     "name": "stdout",
     "output_type": "stream",
     "text": [
      "(10, 2) (10, 1)\n",
      "[[0.70260436]\n",
      " [3.07487236]]\n",
      "prawdziwe wartości parametrów:  [1 3]\n",
      "wartości estymowane za pomocą równań normalnych:  [[0.70260436 3.07487236]]\n"
     ]
    },
    {
     "data": {
      "image/png": "[encoded data removed]",
      "text/plain": [
       "<Figure size 432x288 with 1 Axes>"
      ]
     },
     "metadata": {
      "needs_background": "light"
     },
     "output_type": "display_data"
    }
   ],
   "source": [
    "def licz_rownania_normalne(X,y):\n",
    "    # twoj kod tutaj\n",
    "    return theta\n",
    "\n",
    "# dodaj kolumne jedynek za pomocą np.column_stack\n",
    "X = ...\n",
    "# nadaj odpowiedni wymiar, zeby mnozyc macierzowo\n",
    "Y = ...\n",
    "\n",
    "print(X.shape, Y.shape)\n",
    "# tworzymy array z parametrami\n",
    "theta = np.array([theta0, theta1])\n",
    "# wywolujemy algorytm znajdujacy optymalne wartosci parametrow\n",
    "theta_est = licz_rownania_normalne(X, Y)\n",
    "\n",
    "\n",
    "print(\"prawdziwe wartości parametrów: \", theta.T)\n",
    "print(\"wartości estymowane za pomocą równań normalnych: \", theta_est.T)\n",
    "py.plot(X[:,1], Y,'bo')\n",
    "# policz y za pomoca estymowanych parametrow\n",
    "y_reg = ... \n",
    "py.plot(X[:,1],y_reg,'g')\n",
    "# policz y za pomoca oryginalnych/prawdziwych parametrow\n",
    "y_oryg = ...\n",
    "py.plot(X[:,1], y_oryg,'r')\n",
    "py.xlabel(\"x\")\n",
    "py.ylabel(\"y\")\n",
    "py.title(\"Regresja z równań normalnych\")\n",
    "py.show()"
   ]
  },
  {
   "cell_type": "markdown",
   "metadata": {
    "colab_type": "text",
    "id": "3HA0EFYBIDwV"
   },
   "source": [
    "## Algorytm gradientowy stochastyczny \n",
    "Proszę napisać funkcję, która znajduje optymalne parametry theta wg algorytmu gradientowego stochastycznego. \n",
    "Funkcja jako argumenty przyjmuje:\n",
    "1. ciąg uczący, \n",
    "2. (dowolne) wartości początkowe theta \n",
    "3. parametr szybkości zbiegania alpha\n",
    "4. liczbę epok (iteracji)\n",
    "\n",
    "W każdej iteracji funkcja wybiera losowo jeden z punktów z ciągu uczącego i modyfikuje w oparciu o niego parametry theta. Na wyjściu funkcja powinna zwracać wyestymowane wartości parametrów theta.\n",
    "\n",
    "W ramach ilustracji po każdej iteracji proszę dorysować zieloną prostą parametryzowaną przez aktualne wartości parametrów. "
   ]
  },
  {
   "cell_type": "code",
   "execution_count": 93,
   "metadata": {
    "colab": {
     "base_uri": "https://localhost:8080/",
     "height": 330
    },
    "colab_type": "code",
    "executionInfo": {
     "elapsed": 3081,
     "status": "ok",
     "timestamp": 1570788656723,
     "user": {
      "displayName": "Anna Dawid",
      "photoUrl": "https://lh3.googleusercontent.com/a-/AAuE7mBMAlqIzrWbyBbGSDvCFuCvvSN7Xx3h3HRKaToc0r4=s64",
      "userId": "02862484648310443813"
     },
     "user_tz": -120
    },
    "id": "_Sn8K1uIIDwW",
    "outputId": "720b35a9-4332-4534-de9c-fd03b6d8ea88"
   },
   "outputs": [
    {
     "name": "stdout",
     "output_type": "stream",
     "text": [
      "prawdziwe wartości parametrów:  [1 3]\n",
      "wartości estymowane za pomocą algorytmu gradientowego stochastycznego:  [[0.51183332 3.12234433]]\n"
     ]
    },
    {
     "data": {
      "image/png": "[encoded data removed]",
      "text/plain": [
       "<Figure size 432x288 with 1 Axes>"
      ]
     },
     "metadata": {
      "needs_background": "light"
     },
     "output_type": "display_data"
    }
   ],
   "source": [
    "def licz_iteracyjnie_stoch(X, Y, theta = np.array([0,0]).reshape(2,1), alpha = 0.01, epochs = 15):\n",
    "    for i in range(epochs):\n",
    "        # wybieramy losowy indeks\n",
    "        ind = ...\n",
    "        # mały x to pojedynczy przykład o indeksie ind\n",
    "        x =  ...\n",
    "        # nadajemy x odpowiedni kształt by mnożyć macierzowo\n",
    "        x = ...\n",
    "        # zmieniamy wartości parametrów theta\n",
    "        theta = ...\n",
    "        # rysujemy prostą dla wyestymowanych wartości parametrów\n",
    "        y_est = ...\n",
    "        py.plot(... , 'g')\n",
    "    \n",
    "    return theta\n",
    "\n",
    "#################################################\n",
    "print(\"prawdziwe wartości parametrów: \", theta.T)\n",
    "\n",
    "# narusuj dane wejściowe \n",
    "py.plot(X[:,1], Y, 'bo', label='true')\n",
    "# znajdź optymalne wartości parametrów\n",
    "theta_est = licz_iteracyjnie_stoch(X,Y)\n",
    "\n",
    "# narysuj prostą w oparciu o znalezione parametry\n",
    "y_est = ...\n",
    "py.plot(..., y_est, 'r')\n",
    "\n",
    "\n",
    "print(\"wartości estymowane za pomocą algorytmu gradientowego stochastycznego: \", theta_est.T)\n",
    "py.xlabel(\"x\")\n",
    "py.ylabel(\"y\")\n",
    "py.title(u\"Regresja z alg. grad. stochastycznego\")\n",
    "py.show()"
   ]
  },
  {
   "cell_type": "markdown",
   "metadata": {
    "colab_type": "text",
    "id": "HPd4lLdUIDwZ"
   },
   "source": [
    "## Algortym gradientowy zbiorczy\n",
    "Proszę napisać funkcję, która znajduje optymalne parametry theta wg algorytmu gradientowego zbiorczego. \n",
    "Funkcja jako argumenty przyjmuje:\n",
    "1. ciąg uczący, \n",
    "2. (dowolne) wartości początkowe theta \n",
    "3. parametr szybkości zbiegania alpha\n",
    "4. liczbę epok (iteracji)\n",
    "\n",
    "W każdej iteracji funkcja modyfikuje parametry theta w oparciu o **wszystkie** punkty z ciągu uczącego. Na wyjściu funkcja powinna zwracać wyestymowane wartości parametrów theta.\n",
    "\n",
    "W ramach ilustracji po każdej iteracji proszę dorysować zieloną prostą parametryzowaną przez aktualne wartości parametrów. "
   ]
  },
  {
   "cell_type": "code",
   "execution_count": 99,
   "metadata": {
    "colab": {
     "base_uri": "https://localhost:8080/",
     "height": 590
    },
    "colab_type": "code",
    "executionInfo": {
     "elapsed": 3450,
     "status": "ok",
     "timestamp": 1570788657119,
     "user": {
      "displayName": "Anna Dawid",
      "photoUrl": "https://lh3.googleusercontent.com/a-/AAuE7mBMAlqIzrWbyBbGSDvCFuCvvSN7Xx3h3HRKaToc0r4=s64",
      "userId": "02862484648310443813"
     },
     "user_tz": -120
    },
    "id": "Mi3KFdUbIDwb",
    "outputId": "09915ca5-ca57-4c2f-bbe7-965273b72c5d"
   },
   "outputs": [
    {
     "name": "stdout",
     "output_type": "stream",
     "text": [
      "prawdziwe wartości parametrów:  [[0.16076966 1.11702975]]\n",
      "wartości estymowane za pomocą algorytmu gradientowego zbiorczego:  [[0.16076966 1.11702975]]\n",
      "prawdziwe wartości parametrów:  [[0.26408014 1.83299203]]\n",
      "wartości estymowane za pomocą algorytmu gradientowego zbiorczego:  [[0.26408014 1.83299203]]\n",
      "prawdziwe wartości parametrów:  [[0.3305594  2.29187614]]\n",
      "wartości estymowane za pomocą algorytmu gradientowego zbiorczego:  [[0.3305594  2.29187614]]\n",
      "prawdziwe wartości parametrów:  [[0.37342966 2.58597706]]\n",
      "wartości estymowane za pomocą algorytmu gradientowego zbiorczego:  [[0.37342966 2.58597706]]\n",
      "prawdziwe wartości parametrów:  [[0.40116617 2.77445451]]\n",
      "wartości estymowane za pomocą algorytmu gradientowego zbiorczego:  [[0.40116617 2.77445451]]\n",
      "prawdziwe wartości parametrów:  [1 3]\n",
      "wartości estymowane za pomocą algorytmu gradientowego zbiorczego:  [[0.40116617 2.77445451]]\n"
     ]
    },
    {
     "data": {
      "image/png": "[encoded data removed]",
      "text/plain": [
       "<Figure size 432x288 with 1 Axes>"
      ]
     },
     "metadata": {
      "needs_background": "light"
     },
     "output_type": "display_data"
    }
   ],
   "source": [
    "def licz_iteracyjnie_batch(X,Y, theta = np.array([0,0]).reshape(2,1), alpha = 0.001, epochs = 5):\n",
    "    for i in range(epochs):\n",
    "        # bedziemy tutaj zapisywac zmiany wartosci parametrow\n",
    "        # na poczatek inicjalizujemy zerami\n",
    "        delta = np.zeros((len(theta),1))\n",
    "        \n",
    "        for ind, x in enumerate(X):          \n",
    "            # mały x to pojedynczy przykład\n",
    "            # nadaj mu odpowiedni wymiar do mnozenia macierzowego\n",
    "            x = ...\n",
    "            # policz zmiane parametrow\n",
    "            delta += ...\n",
    "        \n",
    "        # zmieniamy parametry w następujący sposób\n",
    "        theta = theta - alpha * delta\n",
    "        print(\"prawdziwe wartości parametrów: \", theta.T)\n",
    "        print(\"wartości estymowane za pomocą algorytmu gradientowego zbiorczego: \", theta.T)\n",
    "        py.plot(X[:,1], Y, 'bo')\n",
    "        y_reg = np.dot(X,theta) \n",
    "        py.plot(X[:,1], y_reg, 'g')\n",
    "        \n",
    "    return theta\n",
    "\n",
    "# rysujemy punkty\n",
    "py.plot(X[:,1], Y, 'bo')\n",
    "# liczymy parametry\n",
    "theta_est = licz_iteracyjnie_batch(X,Y)\n",
    "print(\"prawdziwe wartości parametrów: \", theta.T)\n",
    "print(\"wartości estymowane za pomocą algorytmu gradientowego zbiorczego: \", theta_est.T)\n",
    "\n",
    "# rysujemy prosta ze znalezionymi parametrami\n",
    "y_reg = ... \n",
    "py.plot( ... , 'r')\n",
    "py.xlabel(\"x\")\n",
    "py.ylabel(\"y\")\n",
    "py.title(u\"Regresja z alg. grad. zbiorczego\")\n",
    "py.show() "
   ]
  },
  {
   "cell_type": "markdown",
   "metadata": {
    "colab_type": "text",
    "id": "xKgTHdG9IDwe"
   },
   "source": [
    "## Porównanie algorytmów\n",
    "* Proszę sprawdzić zbieżność algorytmów w zależności od parametrów szybkości zbiegania.\n",
    "* Proszę sprawdzić czy algorytmy optymalizacyjne działają poprawnie dla danych gdzie błąd podlega innym rozkładom prawdopodobieństwa niż normalny. np. rozkład jednorodny lub  t o 3 st. swobody."
   ]
  },
  {
   "cell_type": "code",
   "execution_count": null,
   "metadata": {},
   "outputs": [],
   "source": []
  }
 ],
 "metadata": {
  "colab": {
   "collapsed_sections": [],
   "name": "01b_Regresja_liniowa.ipynb",
   "provenance": [
    {
     "file_id": "0BzwQ_Lscn8yDWnZVeHU1MjluWFU",
     "timestamp": 1546856440599
    }
   ]
  },
  "kernelspec": {
   "display_name": "Python 3",
   "language": "python",
   "name": "python3"
  },
  "language_info": {
   "codemirror_mode": {
    "name": "ipython",
    "version": 3
   },
   "file_extension": ".py",
   "mimetype": "text/x-python",
   "name": "python",
   "nbconvert_exporter": "python",
   "pygments_lexer": "ipython3",
   "version": "3.8.6"
  }
 },
 "nbformat": 4,
 "nbformat_minor": 4
}
